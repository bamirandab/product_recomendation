{
  "cells": [
    {
      "cell_type": "markdown",
      "metadata": {
        "id": "view-in-github",
        "colab_type": "text"
      },
      "source": [
        "<a href=\"https://colab.research.google.com/github/bamirandab/product_recomendation/blob/main/notebooks/MODEL.ipynb\" target=\"_parent\"><img src=\"https://colab.research.google.com/assets/colab-badge.svg\" alt=\"Open In Colab\"/></a>"
      ]
    },
    {
      "cell_type": "code",
      "execution_count": 1,
      "metadata": {
        "id": "gKXNg1sjfFW1"
      },
      "outputs": [],
      "source": [
        "import numpy as np\n",
        "import pandas as pd\n",
        "from sklearn.model_selection import train_test_split\n",
        "from sklearn.decomposition import PCA"
      ]
    },
    {
      "cell_type": "code",
      "source": [
        "import tensorflow as tf"
      ],
      "metadata": {
        "id": "Ic5Tfv_8fx2Q"
      },
      "execution_count": 2,
      "outputs": []
    },
    {
      "cell_type": "code",
      "source": [
        "!unzip '/content/data/data.zip' -d '/content/data'"
      ],
      "metadata": {
        "id": "zGuOchaMfPg2",
        "outputId": "f90e38e7-39aa-42b5-9d31-d284e068a24a",
        "colab": {
          "base_uri": "https://localhost:8080/"
        }
      },
      "execution_count": 13,
      "outputs": [
        {
          "output_type": "stream",
          "name": "stdout",
          "text": [
            "\n",
            "Archive:  /content/data/data.zip\n",
            "  inflating: /content/data/X.npy     \n",
            "  inflating: /content/data/Y.npy     \n"
          ]
        }
      ]
    },
    {
      "cell_type": "code",
      "execution_count": 3,
      "metadata": {
        "id": "_T83TYYtfFW4",
        "outputId": "4c903e09-812d-40ce-d0b5-511d816d8fc1",
        "colab": {
          "base_uri": "https://localhost:8080/"
        }
      },
      "outputs": [
        {
          "output_type": "execute_result",
          "data": {
            "text/plain": [
              "(56061, 1, 1, 4070)"
            ]
          },
          "metadata": {},
          "execution_count": 3
        }
      ],
      "source": [
        "X = np.load('./data/X.npy')\n",
        "X.shape"
      ]
    },
    {
      "cell_type": "code",
      "execution_count": 4,
      "metadata": {
        "id": "v9r4O8bHfFW4",
        "outputId": "3e1109f7-bbaf-4bf3-a720-495933d80961",
        "colab": {
          "base_uri": "https://localhost:8080/"
        }
      },
      "outputs": [
        {
          "output_type": "execute_result",
          "data": {
            "text/plain": [
              "(56061, 1, 1, 4070)"
            ]
          },
          "metadata": {},
          "execution_count": 4
        }
      ],
      "source": [
        "Y = np.load('./data/Y.npy')\n",
        "Y.shape"
      ]
    },
    {
      "cell_type": "code",
      "source": [
        "pca = PCA(200, random_state=42,)\n",
        "pca.fit(X.reshape(56061, 4070))"
      ],
      "metadata": {
        "id": "RML8fpu8sJiy",
        "outputId": "916b996b-0b19-4237-c697-d20181dfe0c3",
        "colab": {
          "base_uri": "https://localhost:8080/"
        }
      },
      "execution_count": 7,
      "outputs": [
        {
          "output_type": "execute_result",
          "data": {
            "text/plain": [
              "PCA(n_components=200, random_state=42)"
            ]
          },
          "metadata": {},
          "execution_count": 7
        }
      ]
    },
    {
      "cell_type": "code",
      "source": [
        "X_pca = pca.transform(X.reshape(56061, 4070))"
      ],
      "metadata": {
        "id": "8Jnsp-c9s3NM"
      },
      "execution_count": 8,
      "outputs": []
    },
    {
      "cell_type": "code",
      "execution_count": 10,
      "metadata": {
        "id": "j5gx9zBcfFW6"
      },
      "outputs": [],
      "source": [
        "X_train, X_test, y_train, y_test = train_test_split(X_pca,Y.reshape(56061, 4070), test_size=0.1)"
      ]
    },
    {
      "cell_type": "code",
      "source": [
        "print(X_train.shape)\n",
        "print(y_train.shape)"
      ],
      "metadata": {
        "id": "WtLI2PA1ijof",
        "outputId": "f095f2b0-249d-4747-ccb3-f46c53c4c82b",
        "colab": {
          "base_uri": "https://localhost:8080/"
        }
      },
      "execution_count": 11,
      "outputs": [
        {
          "output_type": "stream",
          "name": "stdout",
          "text": [
            "(50454, 200)\n",
            "(50454, 4070)\n"
          ]
        }
      ]
    },
    {
      "cell_type": "code",
      "execution_count": 17,
      "metadata": {
        "id": "5SEQayPMfFW6"
      },
      "outputs": [],
      "source": [
        "model = tf.keras.Sequential()\n",
        "model.add(tf.keras.layers.Input(shape=X_train.shape[1:]))\n",
        "model.add(tf.keras.layers.Dense(128,activation='relu'))\n",
        "model.add(tf.keras.layers.Dense(y_train.shape[1],activation='softmax'))\n",
        "model.compile(loss='categorical_crossentropy', optimizer='adam', metrics=['accuracy'])"
      ]
    },
    {
      "cell_type": "code",
      "source": [
        "model.summary()"
      ],
      "metadata": {
        "id": "2cGGammQnARH",
        "outputId": "df5bfa6e-2b25-45fb-fa43-850d925abcac",
        "colab": {
          "base_uri": "https://localhost:8080/"
        }
      },
      "execution_count": 18,
      "outputs": [
        {
          "output_type": "stream",
          "name": "stdout",
          "text": [
            "Model: \"sequential_2\"\n",
            "_________________________________________________________________\n",
            " Layer (type)                Output Shape              Param #   \n",
            "=================================================================\n",
            " dense_4 (Dense)             (None, 128)               25728     \n",
            "                                                                 \n",
            " dense_5 (Dense)             (None, 4070)              525030    \n",
            "                                                                 \n",
            "=================================================================\n",
            "Total params: 550,758\n",
            "Trainable params: 550,758\n",
            "Non-trainable params: 0\n",
            "_________________________________________________________________\n"
          ]
        }
      ]
    },
    {
      "cell_type": "code",
      "source": [
        "num_epochs = 5\n",
        "\n",
        "# Train the model\n",
        "history = model.fit(X_train, y_train, epochs=num_epochs, verbose=1,\n",
        "                    batch_size=2**3 ,validation_data = (X_test, y_test))"
      ],
      "metadata": {
        "id": "zrjOi-FtizcP",
        "outputId": "e07e0453-d916-40d8-e9bf-59888b2d1998",
        "colab": {
          "base_uri": "https://localhost:8080/"
        }
      },
      "execution_count": 19,
      "outputs": [
        {
          "output_type": "stream",
          "name": "stdout",
          "text": [
            "Epoch 1/5\n",
            "6307/6307 [==============================] - 42s 7ms/step - loss: 7.6696 - accuracy: 0.0052 - val_loss: 7.5583 - val_accuracy: 0.0068\n",
            "Epoch 2/5\n",
            "6307/6307 [==============================] - 42s 7ms/step - loss: 7.0991 - accuracy: 0.0079 - val_loss: 7.6385 - val_accuracy: 0.0054\n",
            "Epoch 3/5\n",
            "6307/6307 [==============================] - 41s 7ms/step - loss: 6.6373 - accuracy: 0.0093 - val_loss: 7.9368 - val_accuracy: 0.0045\n",
            "Epoch 4/5\n",
            "6307/6307 [==============================] - 42s 7ms/step - loss: 6.2878 - accuracy: 0.0109 - val_loss: 8.3684 - val_accuracy: 0.0039\n",
            "Epoch 5/5\n",
            "6307/6307 [==============================] - 42s 7ms/step - loss: 6.0351 - accuracy: 0.0118 - val_loss: 8.7289 - val_accuracy: 0.0034\n"
          ]
        }
      ]
    }
  ],
  "metadata": {
    "kernelspec": {
      "display_name": "Python 3.8.10 ('venv': venv)",
      "language": "python",
      "name": "python3"
    },
    "language_info": {
      "codemirror_mode": {
        "name": "ipython",
        "version": 3
      },
      "file_extension": ".py",
      "mimetype": "text/x-python",
      "name": "python",
      "nbconvert_exporter": "python",
      "pygments_lexer": "ipython3",
      "version": "3.8.10"
    },
    "orig_nbformat": 4,
    "vscode": {
      "interpreter": {
        "hash": "8025c26ea92e5a4fbe843d0ccf0e3d1d794664e011b4837a4e5796b1b0eb4383"
      }
    },
    "colab": {
      "provenance": [],
      "include_colab_link": true
    }
  },
  "nbformat": 4,
  "nbformat_minor": 0
}